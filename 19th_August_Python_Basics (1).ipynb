{
 "cells": [
  {
   "cell_type": "code",
   "execution_count": 1,
   "id": "f4998fd5-3821-4201-a0cf-93e3f7934046",
   "metadata": {},
   "outputs": [
    {
     "name": "stdout",
     "output_type": "stream",
     "text": [
      "value of x:  (1, 2, 3, 4, 5)\n",
      "value of y:  (5, 6, 7, 8, 9)\n"
     ]
    }
   ],
   "source": [
    "x = (1,2,3,4,5,)\n",
    "y = (5,6,7,8,9,)\n",
    "\n",
    "print(\"value of x: \" ,x)\n",
    "print(\"value of y: \" ,y)"
   ]
  },
  {
   "cell_type": "code",
   "execution_count": 2,
   "id": "adf53e75-e48f-4d5d-a73d-006e7e113df6",
   "metadata": {},
   "outputs": [
    {
     "name": "stdout",
     "output_type": "stream",
     "text": [
      "50\n"
     ]
    }
   ],
   "source": [
    "length = 10\n",
    "width = 5\n",
    "\n",
    "area = length * width \n",
    "\n",
    "print(area)"
   ]
  },
  {
   "cell_type": "code",
   "execution_count": 3,
   "id": "d18eba81-1b07-4e54-a47d-9ccc0c016026",
   "metadata": {},
   "outputs": [
    {
     "name": "stdout",
     "output_type": "stream",
     "text": [
      "113.0\n"
     ]
    }
   ],
   "source": [
    "celisus = 45\n",
    "\n",
    "fahrenheit = (celisus * 1.8) + 32\n",
    "\n",
    "print(fahrenheit)"
   ]
  },
  {
   "cell_type": "code",
   "execution_count": 4,
   "id": "4bdac3a1-1391-4bbd-b81f-06b0834c150e",
   "metadata": {},
   "outputs": [
    {
     "name": "stdout",
     "output_type": "stream",
     "text": [
      "8\n"
     ]
    }
   ],
   "source": [
    "string = \"Pwskills\"\n",
    "\n",
    "print(len(string))"
   ]
  },
  {
   "cell_type": "code",
   "execution_count": 5,
   "id": "e810b7c6-2ba1-44e8-b0cf-81973e084e1e",
   "metadata": {},
   "outputs": [
    {
     "name": "stdout",
     "output_type": "stream",
     "text": [
      "1\n"
     ]
    }
   ],
   "source": [
    "string = \"Pwskills\"\n",
    "vowels = \"aeiouAEIOU\"\n",
    "\n",
    "count = sum(string.count(vowel) for vowel in vowels)\n",
    "print(count)"
   ]
  },
  {
   "cell_type": "code",
   "execution_count": 6,
   "id": "2a5e84b2-de15-482a-9cd4-562b2ffabc41",
   "metadata": {},
   "outputs": [
    {
     "name": "stdout",
     "output_type": "stream",
     "text": [
      "sllikswP\n"
     ]
    }
   ],
   "source": [
    "string = 'Pwskills'[::-1]\n",
    "\n",
    "print(string)"
   ]
  },
  {
   "cell_type": "code",
   "execution_count": 7,
   "id": "1d87ba43-cddc-42af-8fe4-ede2047b8847",
   "metadata": {},
   "outputs": [
    {
     "name": "stdout",
     "output_type": "stream",
     "text": [
      "Yes\n"
     ]
    }
   ],
   "source": [
    "def isPalindrome(s):\n",
    "\treturn s == s[::-1]\n",
    "\n",
    "\n",
    "s = \"malayalam\"\n",
    "ans = isPalindrome(s)\n",
    "\n",
    "if ans:\n",
    "\tprint(\"Yes\")\n",
    "else:\n",
    "\tprint(\"No\")"
   ]
  },
  {
   "cell_type": "code",
   "execution_count": 9,
   "id": "fb3d5dda-843d-4fc7-84eb-12a7a5a69c8a",
   "metadata": {},
   "outputs": [
    {
     "name": "stdout",
     "output_type": "stream",
     "text": [
      "pwskills\n"
     ]
    }
   ],
   "source": [
    "def remove(string):\n",
    "\treturn string.replace(\" \", \"\")\n",
    "string = ' p w s k i l l s '\n",
    "print(remove(string))"
   ]
  }
 ],
 "metadata": {
  "kernelspec": {
   "display_name": "Python 3 (ipykernel)",
   "language": "python",
   "name": "python3"
  },
  "language_info": {
   "codemirror_mode": {
    "name": "ipython",
    "version": 3
   },
   "file_extension": ".py",
   "mimetype": "text/x-python",
   "name": "python",
   "nbconvert_exporter": "python",
   "pygments_lexer": "ipython3",
   "version": "3.10.8"
  }
 },
 "nbformat": 4,
 "nbformat_minor": 5
}
